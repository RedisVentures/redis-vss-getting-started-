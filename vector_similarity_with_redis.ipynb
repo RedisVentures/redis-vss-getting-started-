{
    "cells": [
        {
            "cell_type": "markdown",
            "metadata": {},
            "source": ["# Redis Bugbounty POC by @nvk0x"]
        }
    ],
    "metadata": {},
    "nbformat": 4,
    "nbformat_minor": 4
}
